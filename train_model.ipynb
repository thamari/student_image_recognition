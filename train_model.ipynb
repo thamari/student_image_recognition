{
  "nbformat": 4,
  "nbformat_minor": 0,
  "metadata": {
    "colab": {
      "provenance": [],
      "gpuType": "T4"
    },
    "kernelspec": {
      "name": "python3",
      "display_name": "Python 3"
    },
    "language_info": {
      "name": "python"
    },
    "accelerator": "GPU"
  },
  "cells": [
    {
      "cell_type": "code",
      "execution_count": null,
      "metadata": {
        "id": "Ok2ZRS7LtY7L"
      },
      "outputs": [],
      "source": [
        "import os\n",
        "import numpy as np\n",
        "import cv2\n",
        "from sklearn.model_selection import train_test_split\n",
        "from tensorflow.keras.preprocessing.image import ImageDataGenerator\n",
        "from tensorflow.keras.applications.vgg16 import VGG16\n",
        "from tensorflow.keras.layers import Dense, Dropout, BatchNormalization, GlobalAveragePooling2D\n",
        "from tensorflow.keras.models import Model\n",
        "from tensorflow.keras.optimizers import Adam\n",
        "from tensorflow.keras.callbacks import EarlyStopping, ModelCheckpoint\n",
        "from tensorflow.keras.regularizers import l2\n",
        "import glob\n",
        "import matplotlib.pyplot as plt"
      ]
    },
    {
      "cell_type": "code",
      "source": [
        "# Directory where the dataset is stored\n",
        "dataset_dir = '/content/drive/MyDrive/student_images'\n",
        "image_size = (224, 224)"
      ],
      "metadata": {
        "id": "fDBi_hbXts3H"
      },
      "execution_count": null,
      "outputs": []
    },
    {
      "cell_type": "code",
      "source": [
        "# Load images and labels\n",
        "images = []\n",
        "labels = []\n",
        "label_names = []\n",
        "\n",
        "for file in glob.glob(os.path.join(dataset_dir, \"*.jpg\")):\n",
        "    label = file.split('/')[-1].split('.')[0]\n",
        "    img = cv2.imread(file)\n",
        "    img = cv2.resize(img, image_size)\n",
        "    img = cv2.cvtColor(img, cv2.COLOR_BGR2RGB)\n",
        "    images.append(img)\n",
        "    if label not in label_names:\n",
        "        label_names.append(label)\n",
        "    labels.append(label_names.index(label))"
      ],
      "metadata": {
        "id": "60mLcvuYt8FL"
      },
      "execution_count": null,
      "outputs": []
    },
    {
      "cell_type": "code",
      "source": [
        "label_names"
      ],
      "metadata": {
        "colab": {
          "base_uri": "https://localhost:8080/"
        },
        "id": "HIwl2u3pDJ-l",
        "outputId": "a561562b-d49c-407e-eb9a-1a9d948935bc"
      },
      "execution_count": null,
      "outputs": [
        {
          "output_type": "execute_result",
          "data": {
            "text/plain": [
              "['Fahim',\n",
              " 'Abir',\n",
              " 'Hemel',\n",
              " 'Shepon',\n",
              " 'Nipa',\n",
              " 'Rupak',\n",
              " 'Sabiqul',\n",
              " 'Tama',\n",
              " 'Tarup',\n",
              " 'Tamim']"
            ]
          },
          "metadata": {},
          "execution_count": 4
        }
      ]
    },
    {
      "cell_type": "code",
      "source": [
        "# Convert lists to numpy arrays\n",
        "X = np.array(images)\n",
        "y = np.array(labels)\n",
        "n_classes = len(label_names)"
      ],
      "metadata": {
        "id": "9oZwTu2o3WWd"
      },
      "execution_count": null,
      "outputs": []
    },
    {
      "cell_type": "code",
      "source": [
        "# Normalize images\n",
        "X = X / 255.0"
      ],
      "metadata": {
        "id": "ZoSgGUCFT5I8"
      },
      "execution_count": null,
      "outputs": []
    },
    {
      "cell_type": "code",
      "source": [
        "# Split dataset into training and validation sets\n",
        "X_train, X_val, y_train, y_val = train_test_split(X, y, test_size=0.2, random_state=42)\n",
        "y_train_one_hot = np.eye(n_classes)[y_train]\n",
        "y_val_one_hot = np.eye(n_classes)[y_val]"
      ],
      "metadata": {
        "id": "hFLAv49G2cM-"
      },
      "execution_count": null,
      "outputs": []
    },
    {
      "cell_type": "code",
      "source": [
        "# Data augmentation\n",
        "datagen = ImageDataGenerator(\n",
        "    rotation_range=20,\n",
        "    width_shift_range=0.2,\n",
        "    height_shift_range=0.2,\n",
        "    shear_range=0.2,\n",
        "    zoom_range=0.2,\n",
        "    horizontal_flip=True,\n",
        "    fill_mode='nearest'\n",
        ")"
      ],
      "metadata": {
        "id": "4nFYbPP1T4h0"
      },
      "execution_count": null,
      "outputs": []
    },
    {
      "cell_type": "code",
      "source": [
        "# Define the model\n",
        "base_model = VGG16(weights='imagenet', include_top=False, input_shape=(224, 224, 3))\n",
        "x = GlobalAveragePooling2D()(base_model.output)\n",
        "x = Dense(1024, activation='relu', kernel_regularizer=l2(0.01))(x)\n",
        "x = BatchNormalization()(x)\n",
        "x = Dropout(0.5)(x)\n",
        "x = Dense(512, activation='relu', kernel_regularizer=l2(0.01))(x)\n",
        "x = BatchNormalization()(x)\n",
        "x = Dropout(0.5)(x)\n",
        "x = Dense(256, activation='relu', kernel_regularizer=l2(0.01))(x)\n",
        "x = BatchNormalization()(x)\n",
        "x = Dropout(0.5)(x)\n",
        "output = Dense(n_classes, activation='softmax', kernel_regularizer=l2(0.01))(x)"
      ],
      "metadata": {
        "id": "oX-kezvw3yQe"
      },
      "execution_count": null,
      "outputs": []
    },
    {
      "cell_type": "code",
      "source": [
        "model = Model(inputs=base_model.input, outputs=output)\n",
        "model.compile(optimizer=Adam(learning_rate=0.00001), loss='categorical_crossentropy', metrics=['accuracy'])"
      ],
      "metadata": {
        "id": "Zm8VDNLK31Cm"
      },
      "execution_count": null,
      "outputs": []
    },
    {
      "cell_type": "code",
      "source": [
        "# Early stopping and model checkpoint\n",
        "early_stopping = EarlyStopping(monitor='val_loss', patience=5, restore_best_weights=True)\n",
        "checkpoint = ModelCheckpoint('/content/drive/MyDrive/Data/Model/face_recognition_model_best.keras', monitor='val_loss', save_best_only=True)"
      ],
      "metadata": {
        "collapsed": true,
        "id": "3OeQzMtg36jq"
      },
      "execution_count": null,
      "outputs": []
    },
    {
      "cell_type": "code",
      "source": [
        "# Train the model\n",
        "history = model.fit(datagen.flow(X_train, y_train_one_hot, batch_size=32), epochs=30,\n",
        "                    validation_data=(X_val, y_val_one_hot), callbacks=[early_stopping, checkpoint])"
      ],
      "metadata": {
        "colab": {
          "base_uri": "https://localhost:8080/"
        },
        "id": "trR0LeCQOyE-",
        "outputId": "08f57a4e-b5d7-4cdd-9773-9b979bf1907c"
      },
      "execution_count": null,
      "outputs": [
        {
          "output_type": "stream",
          "name": "stdout",
          "text": [
            "Epoch 1/30\n"
          ]
        },
        {
          "output_type": "stream",
          "name": "stderr",
          "text": [
            "/usr/local/lib/python3.10/dist-packages/keras/src/trainers/data_adapters/py_dataset_adapter.py:121: UserWarning: Your `PyDataset` class should call `super().__init__(**kwargs)` in its constructor. `**kwargs` can include `workers`, `use_multiprocessing`, `max_queue_size`. Do not pass these arguments to `fit()`, as they will be ignored.\n",
            "  self._warn_if_super_not_called()\n"
          ]
        },
        {
          "output_type": "stream",
          "name": "stdout",
          "text": [
            "\u001b[1m26/26\u001b[0m \u001b[32m━━━━━━━━━━━━━━━━━━━━\u001b[0m\u001b[37m\u001b[0m \u001b[1m138s\u001b[0m 3s/step - accuracy: 0.1084 - loss: 20.7727 - val_accuracy: 0.0985 - val_loss: 19.4519\n",
            "Epoch 2/30\n",
            "\u001b[1m26/26\u001b[0m \u001b[32m━━━━━━━━━━━━━━━━━━━━\u001b[0m\u001b[37m\u001b[0m \u001b[1m33s\u001b[0m 805ms/step - accuracy: 0.1721 - loss: 20.0989 - val_accuracy: 0.2069 - val_loss: 19.3823\n",
            "Epoch 3/30\n",
            "\u001b[1m26/26\u001b[0m \u001b[32m━━━━━━━━━━━━━━━━━━━━\u001b[0m\u001b[37m\u001b[0m \u001b[1m25s\u001b[0m 869ms/step - accuracy: 0.2082 - loss: 19.7824 - val_accuracy: 0.2069 - val_loss: 19.2729\n",
            "Epoch 4/30\n",
            "\u001b[1m26/26\u001b[0m \u001b[32m━━━━━━━━━━━━━━━━━━━━\u001b[0m\u001b[37m\u001b[0m \u001b[1m21s\u001b[0m 675ms/step - accuracy: 0.2392 - loss: 19.5476 - val_accuracy: 0.2069 - val_loss: 19.1891\n",
            "Epoch 5/30\n",
            "\u001b[1m26/26\u001b[0m \u001b[32m━━━━━━━━━━━━━━━━━━━━\u001b[0m\u001b[37m\u001b[0m \u001b[1m40s\u001b[0m 657ms/step - accuracy: 0.3186 - loss: 19.1463 - val_accuracy: 0.3103 - val_loss: 19.0529\n",
            "Epoch 6/30\n",
            "\u001b[1m26/26\u001b[0m \u001b[32m━━━━━━━━━━━━━━━━━━━━\u001b[0m\u001b[37m\u001b[0m \u001b[1m25s\u001b[0m 874ms/step - accuracy: 0.3437 - loss: 19.0538 - val_accuracy: 0.2217 - val_loss: 18.9925\n",
            "Epoch 7/30\n",
            "\u001b[1m26/26\u001b[0m \u001b[32m━━━━━━━━━━━━━━━━━━━━\u001b[0m\u001b[37m\u001b[0m \u001b[1m36s\u001b[0m 685ms/step - accuracy: 0.3828 - loss: 18.6166 - val_accuracy: 0.2956 - val_loss: 18.7675\n",
            "Epoch 8/30\n",
            "\u001b[1m26/26\u001b[0m \u001b[32m━━━━━━━━━━━━━━━━━━━━\u001b[0m\u001b[37m\u001b[0m \u001b[1m25s\u001b[0m 796ms/step - accuracy: 0.4665 - loss: 18.3741 - val_accuracy: 0.3744 - val_loss: 18.5758\n",
            "Epoch 9/30\n",
            "\u001b[1m26/26\u001b[0m \u001b[32m━━━━━━━━━━━━━━━━━━━━\u001b[0m\u001b[37m\u001b[0m \u001b[1m22s\u001b[0m 762ms/step - accuracy: 0.4819 - loss: 18.1502 - val_accuracy: 0.3892 - val_loss: 18.3613\n",
            "Epoch 10/30\n",
            "\u001b[1m26/26\u001b[0m \u001b[32m━━━━━━━━━━━━━━━━━━━━\u001b[0m\u001b[37m\u001b[0m \u001b[1m44s\u001b[0m 875ms/step - accuracy: 0.5121 - loss: 18.0528 - val_accuracy: 0.5616 - val_loss: 18.1498\n",
            "Epoch 11/30\n",
            "\u001b[1m26/26\u001b[0m \u001b[32m━━━━━━━━━━━━━━━━━━━━\u001b[0m\u001b[37m\u001b[0m \u001b[1m26s\u001b[0m 954ms/step - accuracy: 0.5689 - loss: 17.8050 - val_accuracy: 0.6700 - val_loss: 17.9103\n",
            "Epoch 12/30\n",
            "\u001b[1m26/26\u001b[0m \u001b[32m━━━━━━━━━━━━━━━━━━━━\u001b[0m\u001b[37m\u001b[0m \u001b[1m25s\u001b[0m 884ms/step - accuracy: 0.5567 - loss: 17.6603 - val_accuracy: 0.7192 - val_loss: 17.6744\n",
            "Epoch 13/30\n",
            "\u001b[1m26/26\u001b[0m \u001b[32m━━━━━━━━━━━━━━━━━━━━\u001b[0m\u001b[37m\u001b[0m \u001b[1m24s\u001b[0m 816ms/step - accuracy: 0.6297 - loss: 17.3780 - val_accuracy: 0.8177 - val_loss: 17.4374\n",
            "Epoch 14/30\n",
            "\u001b[1m26/26\u001b[0m \u001b[32m━━━━━━━━━━━━━━━━━━━━\u001b[0m\u001b[37m\u001b[0m \u001b[1m22s\u001b[0m 750ms/step - accuracy: 0.6580 - loss: 17.1916 - val_accuracy: 0.7833 - val_loss: 17.2337\n",
            "Epoch 15/30\n",
            "\u001b[1m26/26\u001b[0m \u001b[32m━━━━━━━━━━━━━━━━━━━━\u001b[0m\u001b[37m\u001b[0m \u001b[1m21s\u001b[0m 723ms/step - accuracy: 0.7088 - loss: 17.0172 - val_accuracy: 0.7635 - val_loss: 16.9685\n",
            "Epoch 16/30\n",
            "\u001b[1m26/26\u001b[0m \u001b[32m━━━━━━━━━━━━━━━━━━━━\u001b[0m\u001b[37m\u001b[0m \u001b[1m43s\u001b[0m 814ms/step - accuracy: 0.6940 - loss: 17.0227 - val_accuracy: 0.9606 - val_loss: 16.6241\n",
            "Epoch 17/30\n",
            "\u001b[1m26/26\u001b[0m \u001b[32m━━━━━━━━━━━━━━━━━━━━\u001b[0m\u001b[37m\u001b[0m \u001b[1m27s\u001b[0m 874ms/step - accuracy: 0.7359 - loss: 16.8031 - val_accuracy: 0.9754 - val_loss: 16.4290\n",
            "Epoch 18/30\n",
            "\u001b[1m26/26\u001b[0m \u001b[32m━━━━━━━━━━━━━━━━━━━━\u001b[0m\u001b[37m\u001b[0m \u001b[1m25s\u001b[0m 817ms/step - accuracy: 0.7313 - loss: 16.7524 - val_accuracy: 1.0000 - val_loss: 16.2266\n",
            "Epoch 19/30\n",
            "\u001b[1m26/26\u001b[0m \u001b[32m━━━━━━━━━━━━━━━━━━━━\u001b[0m\u001b[37m\u001b[0m \u001b[1m25s\u001b[0m 865ms/step - accuracy: 0.7596 - loss: 16.5953 - val_accuracy: 1.0000 - val_loss: 16.1223\n",
            "Epoch 20/30\n",
            "\u001b[1m26/26\u001b[0m \u001b[32m━━━━━━━━━━━━━━━━━━━━\u001b[0m\u001b[37m\u001b[0m \u001b[1m36s\u001b[0m 680ms/step - accuracy: 0.7500 - loss: 16.5848 - val_accuracy: 1.0000 - val_loss: 15.9547\n",
            "Epoch 21/30\n",
            "\u001b[1m26/26\u001b[0m \u001b[32m━━━━━━━━━━━━━━━━━━━━\u001b[0m\u001b[37m\u001b[0m \u001b[1m25s\u001b[0m 820ms/step - accuracy: 0.7745 - loss: 16.3945 - val_accuracy: 0.9951 - val_loss: 15.8395\n",
            "Epoch 22/30\n",
            "\u001b[1m26/26\u001b[0m \u001b[32m━━━━━━━━━━━━━━━━━━━━\u001b[0m\u001b[37m\u001b[0m \u001b[1m26s\u001b[0m 933ms/step - accuracy: 0.8164 - loss: 16.2387 - val_accuracy: 0.9901 - val_loss: 15.7875\n",
            "Epoch 23/30\n",
            "\u001b[1m26/26\u001b[0m \u001b[32m━━━━━━━━━━━━━━━━━━━━\u001b[0m\u001b[37m\u001b[0m \u001b[1m23s\u001b[0m 811ms/step - accuracy: 0.8162 - loss: 16.2391 - val_accuracy: 0.9901 - val_loss: 15.6694\n",
            "Epoch 24/30\n",
            "\u001b[1m26/26\u001b[0m \u001b[32m━━━━━━━━━━━━━━━━━━━━\u001b[0m\u001b[37m\u001b[0m \u001b[1m25s\u001b[0m 856ms/step - accuracy: 0.8642 - loss: 16.0144 - val_accuracy: 1.0000 - val_loss: 15.5657\n",
            "Epoch 25/30\n",
            "\u001b[1m26/26\u001b[0m \u001b[32m━━━━━━━━━━━━━━━━━━━━\u001b[0m\u001b[37m\u001b[0m \u001b[1m41s\u001b[0m 850ms/step - accuracy: 0.8768 - loss: 15.9419 - val_accuracy: 1.0000 - val_loss: 15.5051\n",
            "Epoch 26/30\n",
            "\u001b[1m26/26\u001b[0m \u001b[32m━━━━━━━━━━━━━━━━━━━━\u001b[0m\u001b[37m\u001b[0m \u001b[1m21s\u001b[0m 644ms/step - accuracy: 0.8468 - loss: 15.9205 - val_accuracy: 0.9901 - val_loss: 15.4384\n",
            "Epoch 27/30\n",
            "\u001b[1m26/26\u001b[0m \u001b[32m━━━━━━━━━━━━━━━━━━━━\u001b[0m\u001b[37m\u001b[0m \u001b[1m45s\u001b[0m 814ms/step - accuracy: 0.8648 - loss: 15.7961 - val_accuracy: 1.0000 - val_loss: 15.3496\n",
            "Epoch 28/30\n",
            "\u001b[1m26/26\u001b[0m \u001b[32m━━━━━━━━━━━━━━━━━━━━\u001b[0m\u001b[37m\u001b[0m \u001b[1m39s\u001b[0m 732ms/step - accuracy: 0.8822 - loss: 15.6970 - val_accuracy: 1.0000 - val_loss: 15.2804\n",
            "Epoch 29/30\n",
            "\u001b[1m26/26\u001b[0m \u001b[32m━━━━━━━━━━━━━━━━━━━━\u001b[0m\u001b[37m\u001b[0m \u001b[1m25s\u001b[0m 831ms/step - accuracy: 0.8784 - loss: 15.6379 - val_accuracy: 1.0000 - val_loss: 15.2112\n",
            "Epoch 30/30\n",
            "\u001b[1m26/26\u001b[0m \u001b[32m━━━━━━━━━━━━━━━━━━━━\u001b[0m\u001b[37m\u001b[0m \u001b[1m36s\u001b[0m 687ms/step - accuracy: 0.8864 - loss: 15.5545 - val_accuracy: 1.0000 - val_loss: 15.1460\n"
          ]
        }
      ]
    },
    {
      "cell_type": "code",
      "source": [
        "model.save('/content/drive/MyDrive/Data/Model/face_recognition_model.keras')"
      ],
      "metadata": {
        "id": "f4YQEzBV4Cu2"
      },
      "execution_count": null,
      "outputs": []
    },
    {
      "cell_type": "code",
      "source": [
        "from tensorflow.keras.models import load_model\n",
        "import matplotlib.pyplot as plt"
      ],
      "metadata": {
        "id": "llQVwA6a5fs1"
      },
      "execution_count": null,
      "outputs": []
    },
    {
      "cell_type": "code",
      "source": [
        "# Load the trained model\n",
        "model = load_model('/content/drive/MyDrive/Data/Model/face_recognition_model.keras')"
      ],
      "metadata": {
        "id": "H_lPAWew574L"
      },
      "execution_count": null,
      "outputs": []
    },
    {
      "cell_type": "code",
      "source": [
        "test_image_path = '/content/drive/MyDrive/student_images/Fahim.0.1414.26.jpg'"
      ],
      "metadata": {
        "id": "dfx7bBaA5_d7"
      },
      "execution_count": null,
      "outputs": []
    },
    {
      "cell_type": "code",
      "source": [
        "test_img = cv2.imread(test_image_path)\n",
        "test_img = cv2.resize(test_img, (224, 224))  # Resize to match model's expected input size\n",
        "test_img_rgb = cv2.cvtColor(test_img, cv2.COLOR_BGR2RGB)  # Convert image to RGB\n",
        "test_img_normalized = test_img_rgb / 255.0  # Normalize pixel values to [0, 1]\n",
        "test_img_expanded = np.expand_dims(test_img_normalized, axis=0)"
      ],
      "metadata": {
        "id": "bYgYBlbU6ZTz"
      },
      "execution_count": null,
      "outputs": []
    },
    {
      "cell_type": "code",
      "source": [
        "predictions = model.predict(test_img_expanded)\n",
        "predicted_class = np.argmax(predictions, axis=1)\n",
        "predicted_label = label_names[predicted_class[0]]  # Map the index to the actual label"
      ],
      "metadata": {
        "colab": {
          "base_uri": "https://localhost:8080/"
        },
        "id": "iK-oa3EJGB8l",
        "outputId": "780d3b62-7f6d-4e80-9bf1-e50c9e892a4a"
      },
      "execution_count": null,
      "outputs": [
        {
          "output_type": "stream",
          "name": "stdout",
          "text": [
            "\u001b[1m1/1\u001b[0m \u001b[32m━━━━━━━━━━━━━━━━━━━━\u001b[0m\u001b[37m\u001b[0m \u001b[1m0s\u001b[0m 19ms/step\n"
          ]
        }
      ]
    },
    {
      "cell_type": "code",
      "source": [
        "plt.imshow(test_img_rgb)\n",
        "plt.title(f'Predicted Label: {predicted_label}')\n",
        "plt.axis('off')\n",
        "plt.show()"
      ],
      "metadata": {
        "colab": {
          "base_uri": "https://localhost:8080/",
          "height": 428
        },
        "id": "-LHgRm7WGE_9",
        "outputId": "2d4eb106-f3b0-49b3-e086-235117494fb4"
      },
      "execution_count": null,
      "outputs": [
        {
          "output_type": "display_data",
          "data": {
            "text/plain": [
              "<Figure size 640x480 with 1 Axes>"
            ],
            "image/png": "[encoded data removed]"
          },
          "metadata": {}
        }
      ]
    },
    {
      "cell_type": "code",
      "source": [],
      "metadata": {
        "id": "x8nIdfBvGJf9"
      },
      "execution_count": null,
      "outputs": []
    }
  ]
}